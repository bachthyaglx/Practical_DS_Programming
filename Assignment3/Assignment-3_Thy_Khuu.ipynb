{
 "cells": [
  {
   "cell_type": "markdown",
   "metadata": {},
   "source": [
    "# Numpy Exercises\n",
    "\n",
    "For this assigment you will need to have numpy installed. \n",
    "\n",
    "You can do this by typing \n",
    "\n",
    "``pip install -r requirements.txt``\n",
    "\n",
    "with the `requirements.txt` file in the lecture material, or simply by\n",
    "\n",
    "``pip install numpy``\n"
   ]
  },
  {
   "cell_type": "markdown",
   "metadata": {},
   "source": [
    "# Assignment 1: Creating 1D Arrays\n",
    "\n",
    "Write a function ``assignment_01`` that creates a one dimensional ``numpy`` array with the numbers [ 0,  3,  6,  9, 12, 15, 18, 21, 24, 27, 30].\n"
   ]
  },
  {
   "cell_type": "code",
   "execution_count": 9,
   "metadata": {},
   "outputs": [],
   "source": [
    "import numpy as np\n",
    "\n",
    "\n",
    "def assignment_01():\n",
    "    return np.array([0, 3, 6, 9, 12, 15, 18, 21, 24, 27, 30])"
   ]
  },
  {
   "cell_type": "code",
   "execution_count": 10,
   "metadata": {},
   "outputs": [],
   "source": [
    "# Test for your implementation\n",
    "# if this does not raise an error, your code should work\n",
    "\n",
    "\n",
    "def assignment_01_test():\n",
    "    correct = np.array([0, 3, 6, 9, 12, 15, 18, 21, 24, 27, 30])\n",
    "    your_solution = assignment_01()\n",
    "    assert np.array_equal(your_solution, correct)\n",
    "\n",
    "\n",
    "assignment_01_test()"
   ]
  },
  {
   "cell_type": "markdown",
   "metadata": {},
   "source": [
    "# Assignment 2: Creating 2D Arrays\n",
    "\n",
    "Write a function ``assignment_02`` that creates a ``numpy`` array with 4 rows and 5 columns. The content of the array should be 1 for all cells initially. Then, the function should multiply each column by its column index plus 1 and then subtract its row index.  \n"
   ]
  },
  {
   "cell_type": "code",
   "execution_count": 3,
   "metadata": {},
   "outputs": [],
   "source": [
    "import numpy as np\n",
    "\n",
    "def assignment_02():\n",
    "    matrix = np.ones((4, 5))\n",
    "    for r in range(4):\n",
    "        for c in range(5):\n",
    "            matrix[r][c] = matrix[r][c]*c + 1 - r\n",
    "            \n",
    "    return matrix "
   ]
  },
  {
   "cell_type": "code",
   "execution_count": 4,
   "metadata": {},
   "outputs": [],
   "source": [
    "def assignment_02_test():\n",
    "    correct = np.array(\n",
    "        [\n",
    "            [1.0, 2.0, 3.0, 4.0, 5.0],\n",
    "            [0.0, 1.0, 2.0, 3.0, 4.0],\n",
    "            [-1.0, 0.0, 1.0, 2.0, 3.0],\n",
    "            [-2.0, -1.0, 0.0, 1.0, 2.0],\n",
    "        ]\n",
    "    )\n",
    "    your_solution = assignment_02()\n",
    "    assert np.array_equal(your_solution, correct)\n",
    "\n",
    "\n",
    "assignment_02_test()"
   ]
  },
  {
   "cell_type": "markdown",
   "metadata": {},
   "source": [
    "# Assignment 3: Indexing 2D Arrays\n",
    "\n",
    "Write a function ``assignment_03`` that expects a ``numpy`` array with 4 rows and 5 columns. Then, extract the bold-faced subarray and return it\n",
    "\n",
    "|    |    |    |    |    |\n",
    "|:-: |:-: |:-: |:-: |:-: |\n",
    "| .  | .  | .  | .  | .  |\n",
    "| .  | o  | o  | o  | .  |\n",
    "| .  | o  | o  | o  | .  |\n",
    "| .  | .  | .  | .  | .  |\n"
   ]
  },
  {
   "cell_type": "code",
   "execution_count": 5,
   "metadata": {},
   "outputs": [],
   "source": [
    "import numpy as np\n",
    "\n",
    "def assignment_03(arr):\n",
    "    return arr[1:3,1:4]"
   ]
  },
  {
   "cell_type": "code",
   "execution_count": 6,
   "metadata": {},
   "outputs": [],
   "source": [
    "def assignment_03_test():\n",
    "    arr = np.array(\n",
    "        [\n",
    "            [1.0, 2.0, 3.0, 4.0, 5.0],\n",
    "            [0.0, 1.0, 2.0, 3.0, 4.0],\n",
    "            [-1.0, 0.0, 1.0, 2.0, 3.0],\n",
    "            [-2.0, -1.0, 0.0, 1.0, 2.0],\n",
    "        ]\n",
    "    )\n",
    "    correct = np.array([[1.0, 2.0, 3.0], [0.0, 1.0, 2.0]])\n",
    "    your_solution = assignment_03(arr)\n",
    "    assert np.array_equal(your_solution, correct)\n",
    "\n",
    "\n",
    "assignment_03_test()"
   ]
  },
  {
   "cell_type": "markdown",
   "metadata": {},
   "source": [
    "# Assignment 4: Manipulating 2D Arrays\n",
    "\n",
    "Write a function ``assignment_04`` that creates a ``numpy`` array with 100000 rows and 2 columns. The first column should contain Gaussian distributed variables with mean 1 and standard deviation 2 and the second column should contain Gaussian distributed variables with mean -2 and standard deviation 0.5. \n",
    "\n"
   ]
  },
  {
   "cell_type": "code",
   "execution_count": 7,
   "metadata": {},
   "outputs": [],
   "source": [
    "import numpy as np\n",
    "\n",
    "def assignment_04():\n",
    "    # INSERT CODE HERE\n",
    "    column1 = np.random.normal(1, 2, (100000, 1))\n",
    "    column2 = np.random.normal(-2, 0.5, (100000, 1))\n",
    "    \n",
    "    result_array = np.hstack((column1, column2))\n",
    "    \n",
    "    return result_array"
   ]
  },
  {
   "cell_type": "code",
   "execution_count": 8,
   "metadata": {},
   "outputs": [],
   "source": [
    "def assignment_04_test():\n",
    "    result = assignment_04()\n",
    "    true_mean = np.array([1, -2])\n",
    "    true_std = np.array([2.0, 0.5])\n",
    "    mean_diff = result.mean(axis=0) - true_mean\n",
    "    std_diff = result.std(axis=0) - true_std\n",
    "    assert all(np.hstack([mean_diff, std_diff]) < 0.1)\n",
    "\n",
    "\n",
    "assignment_04_test()"
   ]
  }
 ],
 "metadata": {
  "kernelspec": {
   "display_name": "Python 3 (ipykernel)",
   "language": "python",
   "name": "python3"
  },
  "language_info": {
   "codemirror_mode": {
    "name": "ipython",
    "version": 3
   },
   "file_extension": ".py",
   "mimetype": "text/x-python",
   "name": "python",
   "nbconvert_exporter": "python",
   "pygments_lexer": "ipython3",
   "version": "3.11.5"
  }
 },
 "nbformat": 4,
 "nbformat_minor": 4
}
