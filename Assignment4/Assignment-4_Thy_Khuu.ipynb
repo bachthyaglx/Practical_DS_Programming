{
 "cells": [
  {
   "cell_type": "markdown",
   "metadata": {},
   "source": [
    "## Assignment 01\n",
    "\n",
    "**Extract some summary statistics of the money spent by the Senat of Berlin**\n",
    "\n",
    "Write a function ``assignment_01`` that takes the data frame of spendings and returns a list with\n",
    "\n",
    "- the count\n",
    "- the mean\n",
    "- the standard deviation\n",
    "- the minimum\n",
    "- the 25% percentile\n",
    "- the 50% percentile (median)\n",
    "- the 75% percentile\n",
    "- the maximum\n",
    " \n",
    "of all spendings in a list. The data is in the subdirectory ``data`` and can be loaded by ``df = pd.read_csv(\"data/zuwendungen-berlin.csv.gz\")``. For convenient compuation of the summary statistics check the pandas Series API for ``describe()``\n",
    "\n",
    "```python\n",
    "\n",
    "def assignment_01(df):\n",
    "    spending_statistics = df. ...\n",
    "    ...\n",
    "    return spending_statistics\n",
    "\n",
    "```\n"
   ]
  },
  {
   "cell_type": "code",
   "execution_count": 1,
   "metadata": {},
   "outputs": [
    {
     "name": "stdout",
     "output_type": "stream",
     "text": [
      "count    0.000000\n",
      "mean    -0.000032\n",
      "std     -0.001190\n",
      "min      0.000000\n",
      "25%      0.000000\n",
      "50%      0.000000\n",
      "75%      0.000000\n",
      "max      0.000000\n",
      "Name: Betrag, dtype: float64\n"
     ]
    }
   ],
   "source": [
    "import numpy as np\n",
    "import pandas as pd\n",
    "\n",
    "df = pd.read_csv(\"data/zuwendungen-berlin.csv.gz\")\n",
    "\n",
    "\n",
    "def assignment_01(df):\n",
    "    # Your implementation of assignment_01 goes here\n",
    "    spending_statistics = df['Betrag']\n",
    "    result = spending_statistics.describe() \n",
    "    return result\n",
    "\n",
    "\n",
    "def assignment_01_test():\n",
    "    spending_statistics = np.array(\n",
    "        [\n",
    "            4.08200000e04,\n",
    "            2.29215965e05,\n",
    "            3.93196343e06,\n",
    "            1.00000000e02,\n",
    "            4.67300000e03,\n",
    "            1.64770000e04,\n",
    "            6.11755000e04,\n",
    "            4.87261162e08,\n",
    "        ]\n",
    "    )\n",
    "    print(assignment_01(df) - spending_statistics)\n",
    "    assert np.allclose(assignment_01(df), spending_statistics)\n",
    "\n",
    "\n",
    "assignment_01_test()"
   ]
  },
  {
   "cell_type": "markdown",
   "metadata": {},
   "source": [
    "## Assignment 02\n",
    "\n",
    "**How much is each recipient of a spending receiving in total?**\n",
    "\n",
    "Write a function ``assignment_02`` that takes the data frame of spendings and groups by recipient (column ``'Name'``) and then sums all money received for each recipient. Return the names of the recipients that received in total 143 Euros. \n",
    "\n",
    "```python\n",
    "\n",
    "def assignment_02(df):\n",
    "    money_received = df.groupby(['Name']). ...\n",
    "    ...\n",
    "    return names_of_recipients\n",
    "\n",
    "```"
   ]
  },
  {
   "cell_type": "code",
   "execution_count": 2,
   "metadata": {},
   "outputs": [],
   "source": [
    "def assignment_02(df):\n",
    "    # Group by 'Name' and sum the amounts\n",
    "    money_received = df.groupby('Name')['Betrag'].sum().reset_index()\n",
    "\n",
    "    # Filter recipients who received a total of 143 Euros\n",
    "    result = money_received[money_received['Betrag'] == 143]['Name'].tolist()\n",
    "\n",
    "    return result\n",
    "\n",
    "\n",
    "\n",
    "\n",
    "def assignment_02_test():\n",
    "    result = sorted(assignment_02(df))\n",
    "    assert (result[0] == \"Rock 'n' Roll Club Pinguin Berlin e. V.\") & (\n",
    "        result[1] == \"Triathlongemeinschaft Sisu Berlin e. V.\"\n",
    "    )\n",
    "\n",
    "\n",
    "assignment_02_test()"
   ]
  },
  {
   "cell_type": "markdown",
   "metadata": {},
   "source": [
    "## Assignment 03\n",
    "\n",
    "**How much is Berlin spending on each political ressort?**\n",
    "\n",
    "Write a function ``assignment_03`` that takes the data frame of spendings (spending is the column 'Betrag'), groups by political ressort (in german 'Politikbereich') and computes the \n",
    "\n",
    " - minimum\n",
    " - median\n",
    " - maximum\n",
    "\n",
    "of the spendings on each political ressort. Return the aggregates in the political ressort ('Politikbereich') 'sciences' ('Wissenschaft')\n",
    "\n",
    "```python\n",
    "\n",
    "def assignment_03(df):\n",
    "    spending_per_ressort = df.groupby(['Politikbereich']). ...\n",
    "    ...\n",
    "    return \n",
    "\n",
    "```\n"
   ]
  },
  {
   "cell_type": "code",
   "execution_count": 3,
   "metadata": {},
   "outputs": [],
   "source": [
    "def assignment_03(df):\n",
    "    # Group by 'Politikbereich' and compute minimum, median, and maximum spendings\n",
    "    spending_per_ressort = df.groupby('Politikbereich')['Betrag'].agg(['min', 'median', 'max']).reset_index()\n",
    "\n",
    "    # Filter for the 'Wissenschaft' ressort\n",
    "    result = spending_per_ressort[spending_per_ressort['Politikbereich'] == 'Wissenschaft']\n",
    "\n",
    "    # Return the minimum, median, and maximum spendings as a NumPy array\n",
    "    return np.array([result['min'].iloc[0], result['median'].iloc[0], result['max'].iloc[0]])\n",
    "\n",
    "\n",
    "def assignment_03_test():\n",
    "    correct = np.array([500.0, 115557.5, 41852102.0])\n",
    "    assert np.array_equal(assignment_03(df), correct)\n",
    "\n",
    "\n",
    "assignment_03_test()"
   ]
  },
  {
   "cell_type": "markdown",
   "metadata": {},
   "source": [
    "## Assignment 04\n",
    "\n",
    "**How much is Berlin spending on each U-Bahn?**\n",
    "\n",
    "Write a function ``assignment_04`` that takes the data frame of spendings, filters for transportation (german 'Verkehr'), groups by the specific ubahn and sums up the spendings. For the ubahn grouping you can extract the ubahn with the regular expression ``'U[1-9]'``. The function should return the ubahn names ordered from most (first element) to least expensive (last element).\n",
    "\n",
    "\n",
    "```python\n",
    "\n",
    "def assignment_04(df):\n",
    "    df['ubahn'] = df['Zweck'].str.extract('(U[1-9])') ...\n",
    "    ...\n",
    "    return \n",
    "\n",
    "```\n"
   ]
  },
  {
   "cell_type": "code",
   "execution_count": 4,
   "metadata": {},
   "outputs": [],
   "source": [
    "def assignment_04(df):\n",
    "    # Extract 'U-Bahn' with regex 'U[1-9]'\n",
    "    df['ubahn'] = df['Zweck'].str.extract('(U[1-9])')\n",
    "\n",
    "    # Filter for 'Verkehr' and group by 'U-Bahn', summing the spendings\n",
    "    aggregated_df = df[df['Politikbereich'] == 'Verkehr'].groupby('ubahn')['Betrag'].sum().reset_index()\n",
    "\n",
    "    # Order U-Bahn names from most to least expensive\n",
    "    result = aggregated_df.sort_values(by='Betrag', ascending=False)['ubahn'].tolist()\n",
    "\n",
    "    return result\n",
    "    \n",
    "def assignment_04_test():\n",
    "    ubahn_cost_ranking = [\"U5\", \"U2\", \"U1\", \"U6\", \"U8\", \"U7\", \"U9\", \"U3\", \"U4\"]\n",
    "    assert all([x == y for x, y in zip(assignment_04(df), ubahn_cost_ranking)])\n",
    "\n",
    "\n",
    "assignment_04_test()"
   ]
  }
 ],
 "metadata": {
  "kernelspec": {
   "display_name": "Python 3",
   "language": "python",
   "name": "python3"
  },
  "language_info": {
   "codemirror_mode": {
    "name": "ipython",
    "version": 3
   },
   "file_extension": ".py",
   "mimetype": "text/x-python",
   "name": "python",
   "nbconvert_exporter": "python",
   "pygments_lexer": "ipython3",
   "version": "3.11.5"
  }
 },
 "nbformat": 4,
 "nbformat_minor": 4
}
