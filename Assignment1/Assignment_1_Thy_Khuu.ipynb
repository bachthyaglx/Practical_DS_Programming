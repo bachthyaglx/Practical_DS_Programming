{
 "cells": [
  {
   "cell_type": "markdown",
   "id": "4ab44cb1",
   "metadata": {},
   "source": [
    "# Assignment 1"
   ]
  },
  {
   "cell_type": "markdown",
   "id": "ffb1f48f",
   "metadata": {},
   "source": [
    "## Task 1a: User Input\n",
    "###### (1 point)\n",
    "- Write a function that asks the user for their **name and age**. Afterwards, print **how long their name is and when they were born**. Example of the expected below:"
   ]
  },
  {
   "cell_type": "code",
   "execution_count": 4,
   "id": "315076d3",
   "metadata": {},
   "outputs": [],
   "source": [
    "def task_01a(name, age):\n",
    "    year_born = 2023 - int(age)\n",
    "    return f'Hello, {name}! Your name has {len(name)} letters and you were born in {year_born}.'"
   ]
  },
  {
   "cell_type": "markdown",
   "id": "3dbddf1b",
   "metadata": {},
   "source": [
    "##### Expected solution format:\n",
    "    Hello, John! Your name has 4 letters and you were born in 1993."
   ]
  },
  {
   "cell_type": "markdown",
   "id": "624fc552",
   "metadata": {},
   "source": [
    "## Task 1b: User Input\n",
    "###### (1 point)\n",
    "- Write a function ``task_01b`` that multiplies an arbitrarily long list of number arguments (not passed as a list/collection but as single argument)"
   ]
  },
  {
   "cell_type": "code",
   "execution_count": 5,
   "id": "22f17785",
   "metadata": {
    "collapsed": false,
    "jupyter": {
     "outputs_hidden": false
    }
   },
   "outputs": [],
   "source": [
    "def task_01b(*numbers):\n",
    "    result = 1\n",
    "    for i in numbers:\n",
    "        result = result*i\n",
    "        \n",
    "    return result"
   ]
  },
  {
   "cell_type": "markdown",
   "id": "498d0092",
   "metadata": {},
   "source": [
    "## Task 2: Dictionaries and Sets\n",
    "\n",
    "###### (2 points)\n",
    "\n",
    "- Write three methods which would print the answers to the following questions **using the given dictionary of sets**. Example of the expected output below (don't worry about printing brackets for now)."
   ]
  },
  {
   "cell_type": "code",
   "execution_count": 6,
   "id": "eb743400",
   "metadata": {
    "collapsed": false,
    "jupyter": {
     "outputs_hidden": false
    }
   },
   "outputs": [
    {
     "name": "stdout",
     "output_type": "stream",
     "text": [
      "What languages can Paula code in?\n",
      "Paula can code in {'Python', 'Java'}.\n",
      "How many languages can Laura code in?\n",
      "Laura codes in 3 languages.\n",
      "What language do both Chris and Paula master?\n",
      "They both code in  {'Java'}\n"
     ]
    }
   ],
   "source": [
    "prog_skills = {'Chris': {'C#', 'Java'},\n",
    "                   'Laura': {'Python', 'C++', 'JavaScript'},\n",
    "                   'Paula': {'Java', 'Python'}}\n",
    "        \n",
    "def get_programming_languages(name, data):\n",
    "    for k,v in data.items():\n",
    "        if(k==name):\n",
    "            return f'{name} can code in {v}.'\n",
    "\n",
    "def count_languages(name, data):\n",
    "    for k,v in data.items():\n",
    "        if(k==name):\n",
    "            return f'{name} codes in {len(v)} languages.'\n",
    "\n",
    "def get_mutal_language(person1, person2, data):\n",
    "    setA = set(data[person1])\n",
    "    setB = set(prog_skills[person2])\n",
    "    setOfCommonKeys = setA & setB\n",
    "    \n",
    "    return f'They both code in  {setOfCommonKeys}'\n",
    "\n",
    "print('What languages can Paula code in?')\n",
    "print(get_programming_languages(\"Paula\", prog_skills))\n",
    "\n",
    "print('How many languages can Laura code in?')\n",
    "print(count_languages(\"Laura\", prog_skills))\n",
    "\n",
    "print('What language do both Chris and Paula master?')\n",
    "print(get_mutal_language(\"Chris\", \"Paula\", prog_skills))"
   ]
  },
  {
   "cell_type": "markdown",
   "id": "13cfed24",
   "metadata": {},
   "source": [
    "##### Expected solution format:\n",
    "\n",
    "    What languages can Paula code in?\n",
    "    Paula can code in {'Python', 'Java'}.\n",
    "    How many languages can Laura code in?\n",
    "    Laura codes in 3 languages.\n",
    "    What language do both Chris and Paula master?\n",
    "    They both code in  {'Java'}"
   ]
  },
  {
   "cell_type": "markdown",
   "id": "107a0a46",
   "metadata": {},
   "source": [
    "## Task 3: Loops\n",
    "\n",
    "###### (4 points)\n",
    "\n",
    "Write a function that asks the user to choose a number from 1 to 1000 \n",
    "and then tries to guess that number by halving the search interval.\n",
    "Concretely, the user is prompted after each wrong guess of the program \n",
    "to reveal if their choice is higher or lower than the previous guess \n",
    "and then halves again the next subinterval.\n",
    "\n",
    "Make sure the program stops when the maximum number of possible halving \n",
    "steps is reached (what is this number?). Also make sure you handle unallowed \n",
    "user inputs accordingly.\n",
    "\n",
    "Here is an example of expected output when the user thought of **523**:\n",
    "\n",
    "```\n",
    "Think of a number from 1 to 1000\n",
    "Have you thought of 500? y/n: n\n",
    "Is it lower or higher than 500? l/h: h\n",
    "Have you thought of 750? y/n: n\n",
    "Is it lower or higher than 750? l/h: l\n",
    "Have you thought of 625? y/n: n\n",
    "Is it lower or higher than 625? l/h: l\n",
    "Have you thought of 562? y/n: n\n",
    "Is it lower or higher than 562? l/h: l\n",
    "Have you thought of 531? y/n: n\n",
    "Is it lower or higher than 531? l/h: l\n",
    "Have you thought of 515? y/n: n\n",
    "Is it lower or higher than 515? l/h: h\n",
    "Have you thought of 523? y/n: y\n",
    "Yeah, I guessed correctly in 7 steps!\n",
    "```"
   ]
  },
  {
   "cell_type": "code",
   "execution_count": null,
   "id": "87967c71",
   "metadata": {},
   "outputs": [],
   "source": [
    "import time\n",
    "\n",
    "def guess_number(max_steps):\n",
    "    right_answer = 523\n",
    "    list_numbers = [1,1000]\n",
    "    middle = round((list_numbers[1] - list_numbers[0])/2)\n",
    "    list_numbers.append(middle)\n",
    "    list_numbers.sort()\n",
    "    i = 0\n",
    "    steps = 0\n",
    "    print('Think of a number from 1 to 1000')\n",
    "    while (i<max_steps):\n",
    "        answer_yn = input(f'Have you thought of {middle}? y/n: ')\n",
    "        if(answer_yn == 'y'):\n",
    "            steps +=1\n",
    "            if(middle == right_answer):\n",
    "                print(f'Yeah, I guessed correctly in {steps} steps!')\n",
    "                break\n",
    "            else:\n",
    "                print(f'Wrong answer!')\n",
    "        elif(answer_yn == 'n'):\n",
    "            answer_lh = input(f'Is it lower or highter than {middle}? l/h: ')\n",
    "            if(answer_lh != 'l' or answer_lh != 'h'):\n",
    "                print('You must enter \"l\" or \"h\"')\n",
    "            else:\n",
    "                if(answer_lh == 'l'):\n",
    "                    for i in range(len(list_numbers)):\n",
    "                        if(list_numbers[i]==middle):\n",
    "                            middle = middle - round((middle - list_numbers[i-1])/2) \n",
    "                elif(answer_lh == 'h'):\n",
    "                    for i in range(len(list_numbers)): \n",
    "                        if(list_numbers[i]==middle):\n",
    "                            middle = middle + round((list_numbers[i+1] - middle)/2) \n",
    "                \n",
    "            list_numbers.append(middle)\n",
    "            list_numbers.sort()\n",
    "            steps +=1\n",
    "        else:\n",
    "            print('You must enter \"y\" or \"n\"')\n",
    "        \n",
    "    if(steps == max_steps):\n",
    "        print('No more steps available! The correct answer is {right_answer}.')\n",
    "        \n",
    "guess_number(10)"
   ]
  },
  {
   "cell_type": "markdown",
   "id": "197780f3",
   "metadata": {},
   "source": [
    "## Task 4: Sorted lists\n",
    "\n",
    "###### (1 point)\n",
    "\n",
    "Write a function ```is_sorted``` that takes a list as an argument and checks whether the list is sorted in ascending order or not. The print-statements below should all return the expected output. Also write a docstring in the functions head - between the triple quotes - describing the input and the output of the function.\n",
    "\n",
    "\n",
    "    print(is_sorted([-3, 0.5, 100])) True\n",
    "    print(is_sorted([2, 3, 5, 4.5])) False\n",
    "    print(is_sorted(['a', 'c', 'e'])) True\n",
    "    print(is_sorted(['a', 'e', 'c'])) False\n"
   ]
  },
  {
   "cell_type": "code",
   "execution_count": 7,
   "id": "6ccde1d7",
   "metadata": {},
   "outputs": [],
   "source": [
    "def is_sorted(list_to_sort):\n",
    "    \"\"\"\n",
    "    This function checks whether the list is sorted in asdending order or not\n",
    "\n",
    "    Input\n",
    "    list_to_sort: a list\n",
    "    \n",
    "    Returns True (if the list is sorted) or False (if the list is not sorted)\n",
    "    \"\"\"\n",
    "    flag = 0\n",
    "    for i in range(len(list_to_sort)):\n",
    "        if(i != len(list_to_sort)-1):\n",
    "            if(list_to_sort[i]<list_to_sort[i+1]):\n",
    "                flag+=0\n",
    "            else:\n",
    "                flag+=1\n",
    "    if(flag==0):\n",
    "        return True\n",
    "    else:\n",
    "        return False"
   ]
  },
  {
   "cell_type": "code",
   "execution_count": null,
   "id": "d8ec8fe1",
   "metadata": {
    "collapsed": false,
    "jupyter": {
     "outputs_hidden": false
    }
   },
   "outputs": [],
   "source": [
    "print(is_sorted([-3, 0.5, 100]))\n",
    "print(is_sorted([2, 3, 5, 4.5]))\n",
    "print(is_sorted(['a', 'c', 'e']))\n",
    "print(is_sorted(['a', 'e', 'c']))"
   ]
  },
  {
   "cell_type": "markdown",
   "id": "f50bd375",
   "metadata": {},
   "source": [
    "# Tests\n",
    "\n",
    "The cell below contains unit tests for your solution.\n",
    "\n",
    "Run the below cell (after running all the above cells with your code).\n",
    "\n",
    "If there is no output/error when executing the tests, your code works."
   ]
  },
  {
   "cell_type": "code",
   "execution_count": 2,
   "id": "4205e811",
   "metadata": {
    "collapsed": false,
    "jupyter": {
     "outputs_hidden": false
    }
   },
   "outputs": [],
   "source": [
    "def task_1_test():\n",
    "    assert task_01a(\"John\", 30) == \"Hello, John! Your name has 4 letters and you were born in 1993.\"\n",
    "    assert task_01b(1, 2, 4)==8\n",
    "\n",
    "def task_2_test():\n",
    "    prog_skills = {'Chris': {'C#', 'Java'},\n",
    "                   'Laura': {'Python', 'C++', 'JavaScript'},\n",
    "                   'Paula': {'Java', 'Python'}}\n",
    "    # The order is not guaranteed\n",
    "    assert get_programming_languages(\"Paula\", prog_skills) == \"Paula can code in {'Java', 'Python'}.\" or get_programming_languages(\"Paula\", prog_skills) == \"Paula can code in {'Python', 'Java'}.\"\n",
    "    assert count_languages(\"Chris\", prog_skills) == \"Chris codes in 2 languages.\"\n",
    "\n",
    "\n",
    "def task_4_test():\n",
    "    assert is_sorted([-3, 0.5, 100]) == True\n",
    "    assert is_sorted([2, 3, 5, 4.5]) == False\n",
    "    assert is_sorted(['a', 'c', 'e']) == True\n",
    "    assert is_sorted(['a', 'e', 'c']) == False"
   ]
  },
  {
   "cell_type": "code",
   "execution_count": 9,
   "id": "cf01fc5b",
   "metadata": {
    "collapsed": false,
    "jupyter": {
     "outputs_hidden": false
    }
   },
   "outputs": [],
   "source": [
    "task_1_test()\n",
    "task_2_test()\n",
    "task_4_test()"
   ]
  }
 ],
 "metadata": {
  "kernelspec": {
   "display_name": "Python 3 (ipykernel)",
   "language": "python",
   "name": "python3"
  },
  "language_info": {
   "codemirror_mode": {
    "name": "ipython",
    "version": 3
   },
   "file_extension": ".py",
   "mimetype": "text/x-python",
   "name": "python",
   "nbconvert_exporter": "python",
   "pygments_lexer": "ipython3",
   "version": "3.12.0"
  }
 },
 "nbformat": 4,
 "nbformat_minor": 5
}
