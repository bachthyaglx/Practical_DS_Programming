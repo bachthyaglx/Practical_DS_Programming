{
 "cells": [
  {
   "cell_type": "markdown",
   "metadata": {
    "slideshow": {
     "slide_type": "slide"
    }
   },
   "source": [
    "# Exercises\n"
   ]
  },
  {
   "cell_type": "markdown",
   "metadata": {
    "slideshow": {
     "slide_type": "slide"
    }
   },
   "source": [
    "## Assignment 01\n",
    "\n",
    "Write a function ``assignment_06_01`` that reads the random numbers in the files with `csv` extension under ``data/random_numbers``, sums up all values and returns the result. Try to avoid reading the entire file in memory and avoid using a library like pandas or numpy.  \n"
   ]
  },
  {
   "cell_type": "code",
   "execution_count": 2,
   "metadata": {
    "slideshow": {
     "slide_type": "slide"
    }
   },
   "outputs": [],
   "source": [
    "import glob\n",
    "import os\n",
    "import itertools\n",
    "\n",
    "def assignment_06_01():\n",
    "    # finds all csv files in data/random_numbers\n",
    "    files = glob.glob(os.path.join(\"data\", \"random_numbers\", \"*.csv\"))\n",
    "    \n",
    "    sum_of_values = 0\n",
    "\n",
    "    # Iterate each .csv file from path ~/data/random_numbers/*.csv\n",
    "    for file_path in files:\n",
    "        # Open the file\n",
    "        with open(file_path, 'r') as file:\n",
    "            # Iterate each row in the file\n",
    "            for row in file:\n",
    "                # Split values from row, seperate by ' ' \n",
    "                values = row.strip().split(' ')\n",
    "\n",
    "                # Use itertools.chain to flatten the values and convert each to an integer\n",
    "                # Flattening transform nested structure ['1', '2', '3', ['4', '5', '6'], '7', '8', '9'] \n",
    "                # into flat structure ['1', '2', '3', '4', '5', '6', '7', '8', '9'] \n",
    "                sum_of_values += sum(map(int, itertools.chain(*values))) # *values unpacking the list of values into separate arguments for itertools.chain\n",
    "\n",
    "    return sum_of_values\n"
   ]
  },
  {
   "cell_type": "code",
   "execution_count": 9,
   "metadata": {
    "slideshow": {
     "slide_type": "slide"
    }
   },
   "outputs": [
    {
     "data": {
      "text/plain": [
       "36109"
      ]
     },
     "execution_count": 9,
     "metadata": {},
     "output_type": "execute_result"
    }
   ],
   "source": [
    "assignment_06_01() == 203455"
   ]
  },
  {
   "cell_type": "markdown",
   "metadata": {
    "slideshow": {
     "slide_type": "slide"
    }
   },
   "source": [
    "## Assignment 02\n",
    "\n",
    "Write a function ``assignment_06_02`` that reads Wikipedia html pages and extracts the infobox key-value pairs as strings. The infobox is the blue table in the top right of wikipedia pages.\n"
   ]
  },
  {
   "cell_type": "code",
   "execution_count": 5,
   "metadata": {
    "slideshow": {
     "slide_type": "slide"
    }
   },
   "outputs": [],
   "source": [
    "from bs4 import BeautifulSoup\n",
    "import requests\n",
    "\n",
    "beuth_url = \"https://de.wikipedia.org/wiki/Beuth_Hochschule_f%C3%BCr_Technik_Berlin\"\n",
    "\n",
    "\n",
    "def assignment_06_02(url):\n",
    "    page = requests.get(url)\n",
    "    soup = BeautifulSoup(page.content, \"html.parser\")\n",
    "    infobox = {}\n",
    "\n",
    "    # Select the table with class \"infobox\" in the HTML content\n",
    "    table = soup.select_one(\"table.infobox\")\n",
    "    \n",
    "    # Iterate each row in the infobox table\n",
    "    for row in table.select(\"tr\"):\n",
    "        # Get the header key (th) within the current row\n",
    "        key_element = row.select_one(\"th\")\n",
    "\n",
    "        # Get the data value (td) within the current row \n",
    "        value_element = row.select_one(\"td\")\n",
    "\n",
    "        # Check if both header and data (key-value) exisited\n",
    "        if key_element and value_element:\n",
    "            # Extract the content from header (key) and data (value)\n",
    "            key = key_element.get_text(strip=True)\n",
    "            value = value_element.get_text(strip=True)\n",
    "\n",
    "            # Add the key-value pair to infobox (dictionary)\n",
    "            infobox[key] = value\n",
    "    \n",
    "    return infobox"
   ]
  },
  {
   "cell_type": "code",
   "execution_count": 6,
   "metadata": {
    "slideshow": {
     "slide_type": "slide"
    }
   },
   "outputs": [],
   "source": [
    "infobox = assignment_06_02(beuth_url)\n",
    "assert infobox[\"Ort\"] == \"Berlin-Wedding\""
   ]
  },
  {
   "cell_type": "markdown",
   "metadata": {
    "slideshow": {
     "slide_type": "slide"
    }
   },
   "source": [
    "## Assignment 03\n",
    "\n",
    "Write a function ``assignment_06_03`` that reads the information about all Christmas markets in Berlin and returns the name of the district that has most registered Christmas markets."
   ]
  },
  {
   "cell_type": "code",
   "execution_count": 7,
   "metadata": {
    "slideshow": {
     "slide_type": "slide"
    }
   },
   "outputs": [],
   "source": [
    "import json\n",
    "import requests\n",
    "import pandas as pd\n",
    "\n",
    "\n",
    "def assignment_06_03():\n",
    "    christmas_market_url = (\n",
    "        \"https://www.berlin.de/sen/web/service/maerkte-feste/weihnachtsmaerkte/index.php/index/all.json?q=\"\n",
    "    )\n",
    "    data = json.loads(requests.get(christmas_market_url).content)\n",
    "    \n",
    "    # Create a DataFrame from extracting the list of district(s) from API\n",
    "    df = pd.DataFrame(data['index'])\n",
    "\n",
    "    # Group by bezirk (district) and count occurrences for each bezirk\n",
    "    district_counts = df.groupby('bezirk').size().to_dict()\n",
    "        \n",
    "    # Find the 'district' key which has the most occurrences\n",
    "    district_with_most_christmas_markets = max(district_counts, key=district_counts.get)\n",
    "\n",
    "    return district_with_most_christmas_markets"
   ]
  },
  {
   "cell_type": "code",
   "execution_count": 8,
   "metadata": {
    "slideshow": {
     "slide_type": "slide"
    }
   },
   "outputs": [],
   "source": [
    "assert assignment_06_03() == \"Charlottenburg-Wilmersdorf\""
   ]
  }
 ],
 "metadata": {
  "kernelspec": {
   "display_name": "Python 3 (ipykernel)",
   "language": "python",
   "name": "python3"
  },
  "language_info": {
   "codemirror_mode": {
    "name": "ipython",
    "version": 3
   },
   "file_extension": ".py",
   "mimetype": "text/x-python",
   "name": "python",
   "nbconvert_exporter": "python",
   "pygments_lexer": "ipython3",
   "version": "3.11.5"
  }
 },
 "nbformat": 4,
 "nbformat_minor": 2
}
