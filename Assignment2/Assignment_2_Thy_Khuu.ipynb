{
 "cells": [
  {
   "cell_type": "markdown",
   "metadata": {},
   "source": [
    "# Classes and Errors\n",
    "- Write a Class ``Duck``\n",
    "- A ``Duck`` constructor should accept variable length string arguments denoting the names of the duck\n",
    "- Internally the names are joined with a \" \" separator and stored as a single string in a field/attribute ``name``\n",
    "- A ``Duck`` has a function ``talks_to`` that \n",
    " - accepts one input argument \n",
    " - returns a string ``Quak`` if the input was another duck and raises a Value Error with the message \"Can only talk to other Ducks\" otherwise\n",
    " - **Optional**: Create a function ``__repr__`` that prints the name of the Duck\n"
   ]
  },
  {
   "cell_type": "code",
   "execution_count": 6,
   "metadata": {},
   "outputs": [],
   "source": [
    "class Duck:\n",
    "    def __init__(self, *args):\n",
    "        # your code here\n",
    "        self.name =  \" \".join(args)\n",
    "\n",
    "    def talks_to(self, other_duck):\n",
    "        # your code here\n",
    "        if isinstance(other_duck, Duck) == True:\n",
    "            return \"Quack\"\n",
    "        else:\n",
    "            raise ValueError(\"Can only talk to other Ducks\")"
   ]
  },
  {
   "cell_type": "markdown",
   "metadata": {},
   "source": [
    "# Tests\n",
    "\n",
    "The cell below contains unit tests for your solution\n",
    "\n",
    "Run the below cell (after running all the above cells with your code).\n",
    "\n",
    "If there is no output/error when executing the tests, your code works."
   ]
  },
  {
   "cell_type": "code",
   "execution_count": 8,
   "metadata": {},
   "outputs": [],
   "source": [
    "def assignment_test():\n",
    "    duck = Duck(\"Alfred\", \"Judokus\", \"Quack\")\n",
    "    assert duck.name == \"Alfred Judokus Quack\"\n",
    "\n",
    "    other_duck = Duck(\"Hans\", \"Peter\", \"Schnabel\")\n",
    "    assert other_duck.name == \"Hans Peter Schnabel\"\n",
    "    assert duck.talks_to(other_duck) == \"Quack\"\n",
    "\n",
    "    try:\n",
    "        duck.talks_to(\"Crocodile\")\n",
    "    except ValueError as ve:\n",
    "        assert str(ve) == \"Can only talk to other Ducks\"\n",
    "\n",
    "\n",
    "assignment_test()"
   ]
  }
 ],
 "metadata": {
  "kernelspec": {
   "display_name": "Python 3 (ipykernel)",
   "language": "python",
   "name": "python3"
  },
  "language_info": {
   "codemirror_mode": {
    "name": "ipython",
    "version": 3
   },
   "file_extension": ".py",
   "mimetype": "text/x-python",
   "name": "python",
   "nbconvert_exporter": "python",
   "pygments_lexer": "ipython3",
   "version": "3.12.0"
  }
 },
 "nbformat": 4,
 "nbformat_minor": 4
}
